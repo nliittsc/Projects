{
 "cells": [
  {
   "cell_type": "markdown",
   "metadata": {},
   "source": [
    "**Introduction.**\n",
    "\n",
    "In this Jupyter Notebook, we will write an implementation of Moser's Fix-It Algorithm in order to solve problem 5.8.7 from The Probabilistic Method by Noga Alon.\n",
    "\n",
    "The accompanying paper can be found here: https://arxiv.org/abs/0903.0544\n",
    "\n",
    "We restate the problem here for completeness:\n",
    "\n",
    "`Problem:` Set $m=10^5$ and $n = 10m$. Let $x[1],...,x[n]$ be Boolean variables. Let $\\sigma_1, ..., \\sigma_{30}$ be permutations of $1,...,n$. For each $1 \\leq i \\leq 30$ and $0 \\leq t < m$, create a clause $C=y[1]\\lor \\cdots \\lor y[10]$ where $y[l]$ is either $x[\\sigma_i(10t+l)]$ or its negation. Show, using the Local Lemma, that the conjunction of all $30m$ clauses is satisfiable. Selecting the permutations at random, and the $y[l]$ at random, implement the FIX-IT algoirthm to find a satisfying assignment.\n",
    "\n",
    "**The Algorithm.**\n",
    "Some notation:\n",
    "For some context, let $\\Omega$ be a finite set. For each $v \\in \\Omega$, let $C[v]$ denote a random variable. $\\Omega$ and $C[v]$ define a probability space. Let $I$ denote an index set. For each $\\alpha \\in I$, there is an associated set $A[\\alpha] \\subset \\Omega$ and an event $BAD[\\alpha]$ that depends only on the values of $C[v]$ for $v \\in A[\\alpha]$. The algorithm is therefore designed to find specific values (realizations) of $C[v]$ so that no $BAD[\\alpha]$ holds. \n",
    "\n",
    "`Mosers' FIX-IT ALGORITHM`:\n",
    "1. For each $v\\in \\Omega$, choose $C[v]$ according to its distribution.\n",
    "2. _WHILE_ at least one $BAD[\\alpha]$ holds:\n",
    "3. Select one $\\alpha \\in I$ for which $BAD[\\alpha]$\n",
    "4. Reset $C[v]$ for each $v \\in A[\\alpha]$\n",
    "5. _END WHILE_\n",
    "\n",
    "In our case, for the above example, the index set $I$ corresponds to the $30m$ clauses that we will construct. That is, $i\\in I$ will access a list $A[i] \\in A$ so that $A[i]$ contains the (index) elements making up the $i$th clause $C$. More precisely, for each $v_j \\in A[i]$, $(1 \\leq j \\leq 10)$, the random variable $C[v_j]$ will correspond to the $j$th _literal_ in the $i$th clause $C$.\n",
    "\n",
    "\n",
    "**The Implementation.**\n",
    "\n",
    "Our implementation will consist of several steps. First, we will generate a set of Boolean random variables $x[1], ..., x[n]$ by flipping a coin for each integer $i \\in [1, n]$, then fix each $x[i]$ for the rest of the program. These Boolean variables will be stored in an array $C$ so that $C[i]$ accesses the $i$th Boolean variable: `C[i] = x[i]`.\n",
    "\n",
    "We will then generate a set of random permutations $\\sigma_1, ..., \\sigma_{30}$ by randomly permuting a list `L=[1,2,...,n]` to form another list `sigma_i` so that accessing the $k$th element in `sigma_i` gives us the permuted element of the integer $k$: $\\sigma_i(k)$. That is, `sigma_i[k]` will return the element $\\sigma_i(k)$. For example, if `L=[1,2,3]` and `sigma_i = [3,1,2]` then accessing `sigma_i[1] = 3` -- working similarly to the permutation $\\sigma_i(1) = 3$.\n",
    "\n",
    "Once we have these tools, we will generate our clauses in the form of generating the sets $I$ and $A$. Here $i \\in I$ will correspond to the $i$th clause $C$, and then accessing the list `A` will return another list `A[i]`, which contains the indices making up the $i$th clause. For example, if `A[i]` is the index elements to the $i$th clause $C$, and we want to access the $2$nd literal in $C$, we would use `v2 = A[i][2]` as our index: `C[v2] = second element of C`: corresponding to using $v_2 \\in A[i]$ to denote random variable $C[v_2]$.\n",
    "\n",
    "So, once we have constructed our list-of-lists $A$, we have essentially generated all our clauses. The event $BAD[i]$ then corresponds to the case that the $i$th clause $C$ is false -- something we want to avoid. To determine if a clause $C$ is false, we can make a pass through $A$ to access our clauses, and then for each $v \\in A[i]$, access the literal $C[v]$ corresponding to the $i$th clause and check if it's false. If all literals in corresponding to the clause is false, then the entire clause is false, and we then add $i$ to a set containing the indices for \"bad\" clauses."
   ]
  },
  {
   "cell_type": "code",
   "execution_count": 1,
   "metadata": {},
   "outputs": [],
   "source": [
    "# Numpy for easier computations, matplotlib for plotting\n",
    "import numpy as np\n",
    "import matplotlib.pyplot as plt"
   ]
  },
  {
   "cell_type": "code",
   "execution_count": 2,
   "metadata": {},
   "outputs": [],
   "source": [
    "# Generates the booleans x[1],...,x[n]\n",
    "def generate_sample_space(n=10):\n",
    "    bools = [True if np.random.uniform(0, 1) > 0.50 else False for x in range(n)]\n",
    "    return(bools)\n",
    "\n",
    "# Generates the permutations sigma_i for 1 <= i <= 30\n",
    "def generate_permutations(num, n):\n",
    "    n_set = np.arange(n)\n",
    "    permutations = [np.random.permutation(n_set) for i in range(num)]\n",
    "    return(permutations)\n",
    "\n",
    "# Constructs the indices that make up our clauses\n",
    "def generate_index_set(n, m, perms):\n",
    "    A = []\n",
    "    for i in range(30):\n",
    "        sigma_i = perms[i]\n",
    "        for t in range(0, m):\n",
    "            A_alpha = []\n",
    "            for l in range(10):\n",
    "                j = 10*t + l\n",
    "                v = sigma_i[j]\n",
    "                A_alpha.append(v)\n",
    "            A.append(A_alpha)\n",
    "    return(A)\n",
    "\n",
    "# Helper function to help us count the number of BAD[i] events\n",
    "def count_BAD(A, C):\n",
    "    num_bad = 0\n",
    "    bad_index = []\n",
    "    for i in range(len(A)):\n",
    "        num_true = 0\n",
    "        clause_truth = any([C[v] for v in A[i]])\n",
    "        if clause_truth == False:\n",
    "            bad_index.append(i)\n",
    "            num_bad += 1\n",
    "    return(bad_index, num_bad)"
   ]
  },
  {
   "cell_type": "markdown",
   "metadata": {},
   "source": [
    "**Aside:** It's actually an exercise in `The Probabilistic Method` to come up with a data structure to do the job that `count_BAD` does. Essentially `count_BAD` will count up all our bad events $BAD[\\alpha]$ after each iteration of the _WHILE_ loop in the _FIX-IT_ algorithm.\n",
    "\n",
    "Let _TLOG_ denote the number of times the _WHILE_ loop does an iteration. In the worst case, each of the $m$ clauses could be false on every iteration, and so the time complexity will cost $\\Theta(m\\cdot TLOG)$ to run the algorithm - which is not ideal. Let $d$ denote the number of dependencies among each bad event. Apparently using the right data structure will reduce this time to $O(m + (d+1)TLOG)$ in the worst case, which is considerably better since, in general, $d$ needs to be much smaller than $m$ in order for the Local Lemma (and hence the algorithm) to work.\n",
    "\n",
    "If there is time, we can try to solve this problem and implement the data structure, but for now we will just count up the bad events every time. The running time isn't a problem for $m < 10^5$, but does seem to get tremendously worse when $m \\geq 10^5$."
   ]
  },
  {
   "cell_type": "markdown",
   "metadata": {},
   "source": [
    "Let's proceed with constructing our objects of interest."
   ]
  },
  {
   "cell_type": "code",
   "execution_count": 3,
   "metadata": {},
   "outputs": [],
   "source": [
    "m = 10**5\n",
    "n = 10*m    # The number of booleans to make\n",
    "C = generate_sample_space(n=n)    # Generates all the Booleans\n",
    "sigma = generate_permutations(num=30, n=n)    # Creates our permutations\n",
    "A = generate_index_set(n, m, sigma)    # Constructs the index set that forms our clauses"
   ]
  },
  {
   "cell_type": "markdown",
   "metadata": {},
   "source": [
    "Here is a slice of what $A$ looks like. We can think of each list as a map point to which booleans or literals are in the first 5 clauses."
   ]
  },
  {
   "cell_type": "code",
   "execution_count": 4,
   "metadata": {},
   "outputs": [
    {
     "name": "stdout",
     "output_type": "stream",
     "text": [
      "The indices 'v' in A[0] are:\n",
      "[736419, 863256, 642725, 398627, 120735, 675585, 734961, 88997, 969132, 733671]\n",
      "The indices 'v' in A[1] are:\n",
      "[108480, 110959, 158244, 859106, 806554, 838278, 796441, 22555, 609373, 39964]\n",
      "The indices 'v' in A[2] are:\n",
      "[608602, 67221, 59959, 996182, 599920, 449136, 885571, 389839, 595234, 385484]\n",
      "The indices 'v' in A[3] are:\n",
      "[528949, 504020, 683506, 75593, 235850, 48319, 336047, 883252, 288279, 200900]\n",
      "The indices 'v' in A[4] are:\n",
      "[103089, 254228, 922357, 486090, 985681, 622121, 206384, 927506, 707891, 150056]\n"
     ]
    }
   ],
   "source": [
    "for alpha in range(5):\n",
    "    print(\"The indices 'v' in A[{}] are:\".format(alpha))\n",
    "    print(A[alpha])"
   ]
  },
  {
   "cell_type": "markdown",
   "metadata": {},
   "source": [
    "We can also print out the literals in a clause:"
   ]
  },
  {
   "cell_type": "code",
   "execution_count": 5,
   "metadata": {},
   "outputs": [
    {
     "name": "stdout",
     "output_type": "stream",
     "text": [
      "The 1th literal in the 1st clause is: x[736419] = False\n",
      "The 2th literal in the 1st clause is: x[863256] = True\n",
      "The 3th literal in the 1st clause is: x[642725] = True\n",
      "The 4th literal in the 1st clause is: x[398627] = False\n",
      "The 5th literal in the 1st clause is: x[120735] = False\n",
      "The 6th literal in the 1st clause is: x[675585] = True\n",
      "The 7th literal in the 1st clause is: x[734961] = False\n",
      "The 8th literal in the 1st clause is: x[88997] = True\n",
      "The 9th literal in the 1st clause is: x[969132] = False\n",
      "The 10th literal in the 1st clause is: x[733671] = False\n"
     ]
    }
   ],
   "source": [
    "for i, v in enumerate(A[0]):\n",
    "    print(\"The {}th literal in the 1st clause is: x[{}] = {}\".format(i+1, v, C[v]))"
   ]
  },
  {
   "cell_type": "markdown",
   "metadata": {},
   "source": [
    "Now we count up the number of events $BAD[\\alpha]$:"
   ]
  },
  {
   "cell_type": "code",
   "execution_count": 6,
   "metadata": {},
   "outputs": [
    {
     "name": "stdout",
     "output_type": "stream",
     "text": [
      "The number of events in BAD is 2985\n"
     ]
    }
   ],
   "source": [
    "BAD, num_bad = count_BAD(A, C)\n",
    "print(\"The number of events in BAD is {}\".format(num_bad))"
   ]
  },
  {
   "cell_type": "markdown",
   "metadata": {},
   "source": [
    "We can inspect the clause associated with one of these bad events:"
   ]
  },
  {
   "cell_type": "code",
   "execution_count": 7,
   "metadata": {},
   "outputs": [
    {
     "name": "stdout",
     "output_type": "stream",
     "text": [
      "The 1th literal in the 518th clause is: x[729156] = False\n",
      "The 2th literal in the 518th clause is: x[799096] = False\n",
      "The 3th literal in the 518th clause is: x[726066] = False\n",
      "The 4th literal in the 518th clause is: x[470369] = False\n",
      "The 5th literal in the 518th clause is: x[544394] = False\n",
      "The 6th literal in the 518th clause is: x[823372] = False\n",
      "The 7th literal in the 518th clause is: x[113582] = False\n",
      "The 8th literal in the 518th clause is: x[224805] = False\n",
      "The 9th literal in the 518th clause is: x[860019] = False\n",
      "The 10th literal in the 518th clause is: x[218114] = False\n"
     ]
    }
   ],
   "source": [
    "alpha = BAD[0]\n",
    "for i, v in enumerate(A[alpha]):\n",
    "    print(\"The {}th literal in the {}th clause is: x[{}] = {}\".format(i+1, alpha, v, C[v]))"
   ]
  },
  {
   "cell_type": "markdown",
   "metadata": {},
   "source": [
    "So, we can easily see that the clause is False overall.\n",
    "\n",
    "In order to get rid of these clauses, we will run the _FIX-IT_ algorithm.\n",
    "\n",
    "At a high level, this algorithm is going to fix all the clauses that evaluate to $True$, and for the clauses that evaluate to $False$, they will be 'reset' according to their distribution. In our case, $BAD$ will be a list holding our bad events. We will take an index $\\alpha \\in BAD$ and inspect the clause associated with the index $\\alpha$ by accessing $A[\\alpha] \\in A$, which is a list holding the literals $x[v]$ for $v\\in A[\\alpha]$. Thus $C[v]$ will correspond to a random variable that is $True$ or $False$ with probability $1/2$. We simply flip a coin for each $C[v]$ associated with $A[\\alpha], \\alpha \\in BAD$ and then proceed to the next iteration.\n",
    "\n",
    "Let $TLOG$ be a random variable that denotes the number of _while_ loop iterations. We claim that the expected value of $TLOG$ is finite. That is $E[TLOG] < \\infty$. If we can show this, then the _FIX-IT_ algorithm will terminate with probability $1$.\n",
    "\n",
    "This is easy to show, since we can just appeal to the theorems $5.7.4$ and $5.7.5$ in `The Probabilistic Method`. Let $p = Pr[BAD[\\alpha]]$, the probability of a bad event. If $p \\leq (d-1)^{d-1} d^{-d}$, then $E[TLOG] \\leq |I|/(d-1)$, where $d$ is the number of dependencies for $BAD[\\alpha]$ and $I$ is the index set for the number of clauses. Since $|I| = 30m < \\infty$, it's enough to just verify the above.\n",
    "\n",
    "In our analysis (given seperately), we found that $p \\leq \\frac{1}{1024}$ and that $d = 300$. We can verify the claim with a quick computation:"
   ]
  },
  {
   "cell_type": "code",
   "execution_count": 8,
   "metadata": {},
   "outputs": [
    {
     "name": "stdout",
     "output_type": "stream",
     "text": [
      "Does p < (d-1)^(d-1) * d^(-d) hold?: True\n"
     ]
    }
   ],
   "source": [
    "d = 300\n",
    "numerator = (d-1)**(d-1)\n",
    "denominator = d**d\n",
    "value = numerator / denominator\n",
    "p = 1/1024\n",
    "print(\"Does p < (d-1)^(d-1) * d^(-d) hold?: {}\".format((p < value)))"
   ]
  },
  {
   "cell_type": "markdown",
   "metadata": {},
   "source": [
    "Thus the $E[TLOG] < \\infty$ and the algorithm will terminate with probability $1$.\n",
    "\n",
    "A secondary condition to give the same claim is if $e p d \\leq 1$, but this was actually shown in our analysis. In any case, we proceed with the algorithm."
   ]
  },
  {
   "cell_type": "code",
   "execution_count": 9,
   "metadata": {},
   "outputs": [],
   "source": [
    "TLOG = 0\n",
    "NUM_BAD = []\n",
    "while num_bad > 0:\n",
    "    alpha = np.random.choice(BAD)\n",
    "    for v in A[alpha]:\n",
    "        C[v] = (np.random.uniform() > 0.50)\n",
    "    BAD, num_bad = count_BAD(A, C)\n",
    "    NUM_BAD.append(num_bad)\n",
    "    TLOG += 1"
   ]
  },
  {
   "cell_type": "code",
   "execution_count": 10,
   "metadata": {},
   "outputs": [
    {
     "data": {
      "image/png": "[encoded data removed]",
      "text/plain": [
       "<Figure size 864x576 with 1 Axes>"
      ]
     },
     "metadata": {
      "needs_background": "light"
     },
     "output_type": "display_data"
    }
   ],
   "source": [
    "plt.figure(figsize=(12,8))\n",
    "plt.title(\"FIX-IT PROGRESS\", fontsize=18)\n",
    "plt.ylabel(\"Number of Bad Events\", fontsize=14)\n",
    "plt.xlabel(\"TLOG\", fontsize=14)\n",
    "plt.axhline(color='Red', linestyle='--')\n",
    "plt.plot(np.arange(TLOG), NUM_BAD)\n",
    "plt.show()"
   ]
  },
  {
   "cell_type": "markdown",
   "metadata": {},
   "source": [
    "The above plot then shows that after a number of iterations, the number of bad events slowly tended towards $0$, until we found a satisfying assignment. To verify, we do a quick scan over all the clauses and make sure that none of them are false."
   ]
  },
  {
   "cell_type": "code",
   "execution_count": 11,
   "metadata": {},
   "outputs": [
    {
     "name": "stdout",
     "output_type": "stream",
     "text": [
      "The number of true clauses is 3000000 out of 3000000\n"
     ]
    }
   ],
   "source": [
    "num_clauses = len(A)\n",
    "num_true_clauses = 0\n",
    "for i in range(num_clauses):\n",
    "    clause_truth = any([C[v] for v in A[i]])\n",
    "    num_true_clauses += clause_truth\n",
    "    \n",
    "print(\"The number of true clauses is {} out of {}\".format(num_true_clauses, num_clauses))"
   ]
  },
  {
   "cell_type": "markdown",
   "metadata": {},
   "source": [
    "Looks like the algorithm works!"
   ]
  }
 ],
 "metadata": {
  "kernelspec": {
   "display_name": "Python 3",
   "language": "python",
   "name": "python3"
  },
  "language_info": {
   "codemirror_mode": {
    "name": "ipython",
    "version": 3
   },
   "file_extension": ".py",
   "mimetype": "text/x-python",
   "name": "python",
   "nbconvert_exporter": "python",
   "pygments_lexer": "ipython3",
   "version": "3.7.3"
  }
 },
 "nbformat": 4,
 "nbformat_minor": 2
}
